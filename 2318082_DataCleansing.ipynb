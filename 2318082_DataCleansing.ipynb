{
  "nbformat": 4,
  "nbformat_minor": 0,
  "metadata": {
    "colab": {
      "provenance": []
    },
    "kernelspec": {
      "name": "python3",
      "display_name": "Python 3"
    },
    "language_info": {
      "name": "python"
    }
  },
  "cells": [
    {
      "cell_type": "markdown",
      "source": [],
      "metadata": {
        "id": "O-IWzCdiGfRV"
      }
    },
    {
      "cell_type": "markdown",
      "source": [
        "# **1.Import library**"
      ],
      "metadata": {
        "id": "K3NMqI2PGf2y"
      }
    },
    {
      "cell_type": "code",
      "source": [
        "import pandas as pd\n",
        "import numpy as np\n",
        "import re"
      ],
      "metadata": {
        "id": "LM0fQfBU1Adp"
      },
      "execution_count": 25,
      "outputs": []
    },
    {
      "cell_type": "markdown",
      "source": [
        "Menghubungkan Google Colab dengan Google Drive\n",
        "# **2.Menghubungkan Google Colab dengan Google Drive**"
      ],
      "metadata": {
        "id": "8t61XogtEQW1"
      }
    },
    {
      "cell_type": "code",
      "source": [
        "from google.colab import drive\n",
        "drive.mount('/content/drive')"
      ],
      "metadata": {
        "colab": {
          "base_uri": "https://localhost:8080/"
        },
        "id": "dReaQy3s_p8k",
        "outputId": "e77b0a32-f527-41f9-9ab0-17c0a76d332b"
      },
      "execution_count": 26,
      "outputs": [
        {
          "output_type": "stream",
          "name": "stdout",
          "text": [
            "Drive already mounted at /content/drive; to attempt to forcibly remount, call drive.mount(\"/content/drive\", force_remount=True).\n"
          ]
        }
      ]
    },
    {
      "cell_type": "markdown",
      "source": [
        "# **3.Membaca data set kotor**"
      ],
      "metadata": {
        "id": "Pg021E0mHjXv"
      }
    },
    {
      "cell_type": "code",
      "source": [
        "df = pd.read_csv('/content/drive/MyDrive/DATA_MINING_2318082/Data_set_kotor/Phone_ratings.csv')"
      ],
      "metadata": {
        "id": "sPBaULP5A8z_"
      },
      "execution_count": 27,
      "outputs": []
    },
    {
      "cell_type": "markdown",
      "source": [
        "# **4.Menampilkan 10 baris pertama**"
      ],
      "metadata": {
        "id": "tK-GLAIkNUMd"
      }
    },
    {
      "cell_type": "code",
      "source": [
        "print(df.head(10))"
      ],
      "metadata": {
        "colab": {
          "base_uri": "https://localhost:8080/"
        },
        "id": "15HVGthkCLAo",
        "outputId": "1db9398b-2114-48e0-e7ff-059586bf38bc"
      },
      "execution_count": 28,
      "outputs": [
        {
          "output_type": "stream",
          "name": "stdout",
          "text": [
            "                                         dirty title  ratings averageRating  \\\n",
            "0  Redmi A1 (Light Blue, 2GB RAM, 32GB Storage) |...    7,009           4.0   \n",
            "1  Redmi 9 Activ (Carbon Black, 4GB RAM, 64GB Sto...  311,978           4.2   \n",
            "2  Redmi 9A Sport (Coral Green, 2GB RAM, 32GB Sto...  311,978           4.2   \n",
            "3  OPPO A31 (Mystery Black, 6GB RAM, 128GB Storag...   58,291           4.2   \n",
            "4  Redmi 10A (Slate Grey, 4GB RAM, 64GB Storage) ...   12,043           3.9   \n",
            "5  OPPO A74 5G (Fantastic Purple,6GB RAM,128GB St...   32,469           4.2   \n",
            "6  realme narzo 50i (Carbon Black, 2GB RAM+32GB S...   30,328           4.0   \n",
            "7  Samsung Galaxy M13 (Aqua Green, 4GB, 64GB Stor...   17,760           4.0   \n",
            "8  OnePlus Nord CE 2 Lite 5G (Blue Tide, 6GB RAM,...  105,027           4.3   \n",
            "9  Redmi 10A Sport (Slate Grey, 6GB RAM, 128GB St...      812           3.7   \n",
            "\n",
            "    price  \n",
            "0   6,199  \n",
            "1          \n",
            "2          \n",
            "3          \n",
            "4          \n",
            "5          \n",
            "6   6,999  \n",
            "7  11,999  \n",
            "8          \n",
            "9          \n"
          ]
        }
      ]
    },
    {
      "cell_type": "markdown",
      "source": [
        "# **5.Mengecek kondisi awal dataset**"
      ],
      "metadata": {
        "id": "iKYGXtGXHzY0"
      }
    },
    {
      "cell_type": "code",
      "source": [
        "print(\"Jumlah Data:\", df.shape[0])\n",
        "print(\"Jumlah Kolom:\", df.shape[1])\n",
        "print(\"\\nInfo Dataset:\")\n",
        "print(df.info())\n",
        "\n",
        "print(\"\\nTipe Data per Kolom:\")\n",
        "print(df.dtypes)\n"
      ],
      "metadata": {
        "colab": {
          "base_uri": "https://localhost:8080/"
        },
        "id": "x9Lr9KYOCa5Q",
        "outputId": "85b5a270-e241-4de8-b9f3-3f0b9f6df520"
      },
      "execution_count": 30,
      "outputs": [
        {
          "output_type": "stream",
          "name": "stdout",
          "text": [
            "Jumlah Data: 1536\n",
            "Jumlah Kolom: 4\n",
            "\n",
            "Info Dataset:\n",
            "<class 'pandas.core.frame.DataFrame'>\n",
            "RangeIndex: 1536 entries, 0 to 1535\n",
            "Data columns (total 4 columns):\n",
            " #   Column         Non-Null Count  Dtype \n",
            "---  ------         --------------  ----- \n",
            " 0   dirty title    1536 non-null   object\n",
            " 1   ratings        1536 non-null   object\n",
            " 2   averageRating  1536 non-null   object\n",
            " 3   price          1536 non-null   object\n",
            "dtypes: object(4)\n",
            "memory usage: 48.1+ KB\n",
            "None\n",
            "\n",
            "Tipe Data per Kolom:\n",
            "dirty title      object\n",
            "ratings          object\n",
            "averageRating    object\n",
            "price            object\n",
            "dtype: object\n"
          ]
        }
      ]
    },
    {
      "cell_type": "markdown",
      "source": [
        "# **6.Data cleansing menstandarisasi column dirty title**"
      ],
      "metadata": {
        "id": "P37wTAldIPq_"
      }
    },
    {
      "cell_type": "code",
      "source": [
        "df['brand'] = df['dirty title'].str.split().str[0]\n",
        "\n",
        "df['brand'] = df['brand'].str.strip().str.title()\n",
        "\n",
        "# Menampilkan 10 brand unik pertama\n",
        "print(df['brand'].unique()[:10])\n"
      ],
      "metadata": {
        "colab": {
          "base_uri": "https://localhost:8080/"
        },
        "id": "5uUwnZpFFkSo",
        "outputId": "48ee502b-a7a5-4a6f-8213-6416ee2acce0"
      },
      "execution_count": 40,
      "outputs": [
        {
          "output_type": "stream",
          "name": "stdout",
          "text": [
            "['Redmi' 'Oppo' 'Realme' 'Samsung' 'Oneplus' 'Tecno' 'Motorola' 'Nokia'\n",
            " 'Iqoo' 'Shivansh']\n"
          ]
        }
      ]
    },
    {
      "cell_type": "markdown",
      "source": [
        "# **7.Data cleansing menstandarisasi column type**"
      ],
      "metadata": {
        "id": "2pMcsjScN9o7"
      }
    },
    {
      "cell_type": "code",
      "source": [
        "df['type'] = df['dirty title'].str.split().str[1]\n",
        "df['type'] = df['type'].str.strip().str.title()\n",
        "print(df['type'].unique()[:10])\n"
      ],
      "metadata": {
        "colab": {
          "base_uri": "https://localhost:8080/"
        },
        "id": "8bUZ3NpKFubK",
        "outputId": "f278b861-7c97-44ad-f48d-82512fd0b739"
      },
      "execution_count": 32,
      "outputs": [
        {
          "output_type": "stream",
          "name": "stdout",
          "text": [
            "['A1' '9' '9A' 'A31' '10A' 'A74' 'Narzo' 'Galaxy' 'Nord' 'Spark']\n"
          ]
        }
      ]
    },
    {
      "cell_type": "markdown",
      "source": [
        "# **8.Data cleansing menstandarisasi column rating**"
      ],
      "metadata": {
        "id": "5rZJwyKkOasC"
      }
    },
    {
      "cell_type": "code",
      "source": [
        "def clean_rating(rating):\n",
        "    if pd.isna(rating):\n",
        "        return np.nan\n",
        "    rating = str(rating).strip()\n",
        "    rating = rating.lower()\n",
        "\n",
        "    match = re.search(r'\\d+(\\.\\d+)?', rating)\n",
        "    if match:\n",
        "        return float(match.group())\n",
        "\n",
        "    word_to_num = {\n",
        "        'zero': 0, 'one': 1, 'two': 2, 'three': 3, 'four': 4,\n",
        "        'five': 5, 'six': 6, 'seven': 7, 'eight': 8, 'nine': 9, 'ten': 10\n",
        "    }\n",
        "    for word, num in word_to_num.items():\n",
        "        if word in rating:\n",
        "            return float(num)\n",
        "\n",
        "    return np.nan\n",
        "df['ratings_clean'] = df['ratings'].apply(clean_rating)\n",
        "print(\"10 data ratings asli vs ratings_clean:\")\n",
        "print(df[['ratings', 'ratings_clean']].head(10))\n"
      ],
      "metadata": {
        "colab": {
          "base_uri": "https://localhost:8080/"
        },
        "id": "an3-lm1-L2KJ",
        "outputId": "26df414b-9d46-4c3d-a53e-82d0f6388e23"
      },
      "execution_count": 33,
      "outputs": [
        {
          "output_type": "stream",
          "name": "stdout",
          "text": [
            "10 data ratings asli vs ratings_clean:\n",
            "   ratings  ratings_clean\n",
            "0    7,009            7.0\n",
            "1  311,978          311.0\n",
            "2  311,978          311.0\n",
            "3   58,291           58.0\n",
            "4   12,043           12.0\n",
            "5   32,469           32.0\n",
            "6   30,328           30.0\n",
            "7   17,760           17.0\n",
            "8  105,027          105.0\n",
            "9      812          812.0\n"
          ]
        }
      ]
    },
    {
      "cell_type": "markdown",
      "source": [
        "# **9.Data cleansing menstandarisasi column average**"
      ],
      "metadata": {
        "id": "cEa5lM3DAuDo"
      }
    },
    {
      "cell_type": "code",
      "source": [
        "df['averageRating'] = pd.to_numeric(df['averageRating'], errors='coerce')\n",
        "print(\"Average Rating unik:\")\n",
        "print(df['averageRating'].unique()[:10])"
      ],
      "metadata": {
        "colab": {
          "base_uri": "https://localhost:8080/"
        },
        "id": "lwR4LlcKGYVs",
        "outputId": "c01084c1-9ba6-420d-85ed-93ee4e0b16f5"
      },
      "execution_count": 34,
      "outputs": [
        {
          "output_type": "stream",
          "name": "stdout",
          "text": [
            "Average Rating unik:\n",
            "[4.  4.2 3.9 4.3 3.7 3.8 3.1 3.2 4.1 3.4]\n"
          ]
        }
      ]
    },
    {
      "cell_type": "markdown",
      "source": [
        "# **10.Data cleansing menstandarisasi column price**"
      ],
      "metadata": {
        "id": "IFMJPPcZQeJx"
      }
    },
    {
      "cell_type": "code",
      "source": [
        "df['price'] = df['price'].astype(str).str.replace('[^0-9]', '', regex=True)\n",
        "df['price'] = pd.to_numeric(df['price'], errors='coerce')\n",
        "\n",
        "print(\"\\nPrice unik:\")\n",
        "print(df['price'].unique()[:10])\n"
      ],
      "metadata": {
        "colab": {
          "base_uri": "https://localhost:8080/"
        },
        "id": "jhjFkOb7IH4p",
        "outputId": "a6d5f218-b47b-4032-d8d1-96700304a0cd"
      },
      "execution_count": 35,
      "outputs": [
        {
          "output_type": "stream",
          "name": "stdout",
          "text": [
            "\n",
            "Price unik:\n",
            "[ 6199.    nan  6999. 11999. 13999.  7559. 17999.  8999. 22999. 10499.]\n"
          ]
        }
      ]
    },
    {
      "cell_type": "markdown",
      "source": [
        "# **11.Data cleansing mendeteksi data duplikat**"
      ],
      "metadata": {
        "id": "4kvaTdX3Qtqk"
      }
    },
    {
      "cell_type": "code",
      "source": [
        "duplicate_rows = df[df.duplicated(\n",
        "    ['dirty title', 'brand', 'type', 'averageRating', 'price'], keep='first'\n",
        ")]\n",
        "\n",
        "print(\"Jumlah data yang duplikat:\", len(duplicate_rows))\n",
        "duplicate_rows\n"
      ],
      "metadata": {
        "colab": {
          "base_uri": "https://localhost:8080/",
          "height": 142
        },
        "id": "3D8ntHmuA1H-",
        "outputId": "2e195047-d005-47be-c760-b18a8f60d7e4"
      },
      "execution_count": 36,
      "outputs": [
        {
          "output_type": "stream",
          "name": "stdout",
          "text": [
            "Jumlah data yang duplikat: 2\n"
          ]
        },
        {
          "output_type": "execute_result",
          "data": {
            "text/plain": [
              "                                            dirty title ratings  \\\n",
              "1094  Casotec Back Cover for Mobile (Plastic_Multico...      56   \n",
              "1312  Casotec Back Cover for Mobile (Plastic_Multico...     186   \n",
              "\n",
              "      averageRating  price    brand  type  ratings_clean  \n",
              "1094            4.1  149.0  Casotec  Back           56.0  \n",
              "1312            3.9  149.0  Casotec  Back          186.0  "
            ],
            "text/html": [
              "\n",
              "  <div id=\"df-be4ecb0c-1c21-4d6c-8f8b-54146253b2c8\" class=\"colab-df-container\">\n",
              "    <div>\n",
              "<style scoped>\n",
              "    .dataframe tbody tr th:only-of-type {\n",
              "        vertical-align: middle;\n",
              "    }\n",
              "\n",
              "    .dataframe tbody tr th {\n",
              "        vertical-align: top;\n",
              "    }\n",
              "\n",
              "    .dataframe thead th {\n",
              "        text-align: right;\n",
              "    }\n",
              "</style>\n",
              "<table border=\"1\" class=\"dataframe\">\n",
              "  <thead>\n",
              "    <tr style=\"text-align: right;\">\n",
              "      <th></th>\n",
              "      <th>dirty title</th>\n",
              "      <th>ratings</th>\n",
              "      <th>averageRating</th>\n",
              "      <th>price</th>\n",
              "      <th>brand</th>\n",
              "      <th>type</th>\n",
              "      <th>ratings_clean</th>\n",
              "    </tr>\n",
              "  </thead>\n",
              "  <tbody>\n",
              "    <tr>\n",
              "      <th>1094</th>\n",
              "      <td>Casotec Back Cover for Mobile (Plastic_Multico...</td>\n",
              "      <td>56</td>\n",
              "      <td>4.1</td>\n",
              "      <td>149.0</td>\n",
              "      <td>Casotec</td>\n",
              "      <td>Back</td>\n",
              "      <td>56.0</td>\n",
              "    </tr>\n",
              "    <tr>\n",
              "      <th>1312</th>\n",
              "      <td>Casotec Back Cover for Mobile (Plastic_Multico...</td>\n",
              "      <td>186</td>\n",
              "      <td>3.9</td>\n",
              "      <td>149.0</td>\n",
              "      <td>Casotec</td>\n",
              "      <td>Back</td>\n",
              "      <td>186.0</td>\n",
              "    </tr>\n",
              "  </tbody>\n",
              "</table>\n",
              "</div>\n",
              "    <div class=\"colab-df-buttons\">\n",
              "\n",
              "  <div class=\"colab-df-container\">\n",
              "    <button class=\"colab-df-convert\" onclick=\"convertToInteractive('df-be4ecb0c-1c21-4d6c-8f8b-54146253b2c8')\"\n",
              "            title=\"Convert this dataframe to an interactive table.\"\n",
              "            style=\"display:none;\">\n",
              "\n",
              "  <svg xmlns=\"http://www.w3.org/2000/svg\" height=\"24px\" viewBox=\"0 -960 960 960\">\n",
              "    <path d=\"M120-120v-720h720v720H120Zm60-500h600v-160H180v160Zm220 220h160v-160H400v160Zm0 220h160v-160H400v160ZM180-400h160v-160H180v160Zm440 0h160v-160H620v160ZM180-180h160v-160H180v160Zm440 0h160v-160H620v160Z\"/>\n",
              "  </svg>\n",
              "    </button>\n",
              "\n",
              "  <style>\n",
              "    .colab-df-container {\n",
              "      display:flex;\n",
              "      gap: 12px;\n",
              "    }\n",
              "\n",
              "    .colab-df-convert {\n",
              "      background-color: #E8F0FE;\n",
              "      border: none;\n",
              "      border-radius: 50%;\n",
              "      cursor: pointer;\n",
              "      display: none;\n",
              "      fill: #1967D2;\n",
              "      height: 32px;\n",
              "      padding: 0 0 0 0;\n",
              "      width: 32px;\n",
              "    }\n",
              "\n",
              "    .colab-df-convert:hover {\n",
              "      background-color: #E2EBFA;\n",
              "      box-shadow: 0px 1px 2px rgba(60, 64, 67, 0.3), 0px 1px 3px 1px rgba(60, 64, 67, 0.15);\n",
              "      fill: #174EA6;\n",
              "    }\n",
              "\n",
              "    .colab-df-buttons div {\n",
              "      margin-bottom: 4px;\n",
              "    }\n",
              "\n",
              "    [theme=dark] .colab-df-convert {\n",
              "      background-color: #3B4455;\n",
              "      fill: #D2E3FC;\n",
              "    }\n",
              "\n",
              "    [theme=dark] .colab-df-convert:hover {\n",
              "      background-color: #434B5C;\n",
              "      box-shadow: 0px 1px 3px 1px rgba(0, 0, 0, 0.15);\n",
              "      filter: drop-shadow(0px 1px 2px rgba(0, 0, 0, 0.3));\n",
              "      fill: #FFFFFF;\n",
              "    }\n",
              "  </style>\n",
              "\n",
              "    <script>\n",
              "      const buttonEl =\n",
              "        document.querySelector('#df-be4ecb0c-1c21-4d6c-8f8b-54146253b2c8 button.colab-df-convert');\n",
              "      buttonEl.style.display =\n",
              "        google.colab.kernel.accessAllowed ? 'block' : 'none';\n",
              "\n",
              "      async function convertToInteractive(key) {\n",
              "        const element = document.querySelector('#df-be4ecb0c-1c21-4d6c-8f8b-54146253b2c8');\n",
              "        const dataTable =\n",
              "          await google.colab.kernel.invokeFunction('convertToInteractive',\n",
              "                                                    [key], {});\n",
              "        if (!dataTable) return;\n",
              "\n",
              "        const docLinkHtml = 'Like what you see? Visit the ' +\n",
              "          '<a target=\"_blank\" href=https://colab.research.google.com/notebooks/data_table.ipynb>data table notebook</a>'\n",
              "          + ' to learn more about interactive tables.';\n",
              "        element.innerHTML = '';\n",
              "        dataTable['output_type'] = 'display_data';\n",
              "        await google.colab.output.renderOutput(dataTable, element);\n",
              "        const docLink = document.createElement('div');\n",
              "        docLink.innerHTML = docLinkHtml;\n",
              "        element.appendChild(docLink);\n",
              "      }\n",
              "    </script>\n",
              "  </div>\n",
              "\n",
              "\n",
              "    <div id=\"df-d8550104-d084-4347-9647-668deb4af345\">\n",
              "      <button class=\"colab-df-quickchart\" onclick=\"quickchart('df-d8550104-d084-4347-9647-668deb4af345')\"\n",
              "                title=\"Suggest charts\"\n",
              "                style=\"display:none;\">\n",
              "\n",
              "<svg xmlns=\"http://www.w3.org/2000/svg\" height=\"24px\"viewBox=\"0 0 24 24\"\n",
              "     width=\"24px\">\n",
              "    <g>\n",
              "        <path d=\"M19 3H5c-1.1 0-2 .9-2 2v14c0 1.1.9 2 2 2h14c1.1 0 2-.9 2-2V5c0-1.1-.9-2-2-2zM9 17H7v-7h2v7zm4 0h-2V7h2v10zm4 0h-2v-4h2v4z\"/>\n",
              "    </g>\n",
              "</svg>\n",
              "      </button>\n",
              "\n",
              "<style>\n",
              "  .colab-df-quickchart {\n",
              "      --bg-color: #E8F0FE;\n",
              "      --fill-color: #1967D2;\n",
              "      --hover-bg-color: #E2EBFA;\n",
              "      --hover-fill-color: #174EA6;\n",
              "      --disabled-fill-color: #AAA;\n",
              "      --disabled-bg-color: #DDD;\n",
              "  }\n",
              "\n",
              "  [theme=dark] .colab-df-quickchart {\n",
              "      --bg-color: #3B4455;\n",
              "      --fill-color: #D2E3FC;\n",
              "      --hover-bg-color: #434B5C;\n",
              "      --hover-fill-color: #FFFFFF;\n",
              "      --disabled-bg-color: #3B4455;\n",
              "      --disabled-fill-color: #666;\n",
              "  }\n",
              "\n",
              "  .colab-df-quickchart {\n",
              "    background-color: var(--bg-color);\n",
              "    border: none;\n",
              "    border-radius: 50%;\n",
              "    cursor: pointer;\n",
              "    display: none;\n",
              "    fill: var(--fill-color);\n",
              "    height: 32px;\n",
              "    padding: 0;\n",
              "    width: 32px;\n",
              "  }\n",
              "\n",
              "  .colab-df-quickchart:hover {\n",
              "    background-color: var(--hover-bg-color);\n",
              "    box-shadow: 0 1px 2px rgba(60, 64, 67, 0.3), 0 1px 3px 1px rgba(60, 64, 67, 0.15);\n",
              "    fill: var(--button-hover-fill-color);\n",
              "  }\n",
              "\n",
              "  .colab-df-quickchart-complete:disabled,\n",
              "  .colab-df-quickchart-complete:disabled:hover {\n",
              "    background-color: var(--disabled-bg-color);\n",
              "    fill: var(--disabled-fill-color);\n",
              "    box-shadow: none;\n",
              "  }\n",
              "\n",
              "  .colab-df-spinner {\n",
              "    border: 2px solid var(--fill-color);\n",
              "    border-color: transparent;\n",
              "    border-bottom-color: var(--fill-color);\n",
              "    animation:\n",
              "      spin 1s steps(1) infinite;\n",
              "  }\n",
              "\n",
              "  @keyframes spin {\n",
              "    0% {\n",
              "      border-color: transparent;\n",
              "      border-bottom-color: var(--fill-color);\n",
              "      border-left-color: var(--fill-color);\n",
              "    }\n",
              "    20% {\n",
              "      border-color: transparent;\n",
              "      border-left-color: var(--fill-color);\n",
              "      border-top-color: var(--fill-color);\n",
              "    }\n",
              "    30% {\n",
              "      border-color: transparent;\n",
              "      border-left-color: var(--fill-color);\n",
              "      border-top-color: var(--fill-color);\n",
              "      border-right-color: var(--fill-color);\n",
              "    }\n",
              "    40% {\n",
              "      border-color: transparent;\n",
              "      border-right-color: var(--fill-color);\n",
              "      border-top-color: var(--fill-color);\n",
              "    }\n",
              "    60% {\n",
              "      border-color: transparent;\n",
              "      border-right-color: var(--fill-color);\n",
              "    }\n",
              "    80% {\n",
              "      border-color: transparent;\n",
              "      border-right-color: var(--fill-color);\n",
              "      border-bottom-color: var(--fill-color);\n",
              "    }\n",
              "    90% {\n",
              "      border-color: transparent;\n",
              "      border-bottom-color: var(--fill-color);\n",
              "    }\n",
              "  }\n",
              "</style>\n",
              "\n",
              "      <script>\n",
              "        async function quickchart(key) {\n",
              "          const quickchartButtonEl =\n",
              "            document.querySelector('#' + key + ' button');\n",
              "          quickchartButtonEl.disabled = true;  // To prevent multiple clicks.\n",
              "          quickchartButtonEl.classList.add('colab-df-spinner');\n",
              "          try {\n",
              "            const charts = await google.colab.kernel.invokeFunction(\n",
              "                'suggestCharts', [key], {});\n",
              "          } catch (error) {\n",
              "            console.error('Error during call to suggestCharts:', error);\n",
              "          }\n",
              "          quickchartButtonEl.classList.remove('colab-df-spinner');\n",
              "          quickchartButtonEl.classList.add('colab-df-quickchart-complete');\n",
              "        }\n",
              "        (() => {\n",
              "          let quickchartButtonEl =\n",
              "            document.querySelector('#df-d8550104-d084-4347-9647-668deb4af345 button');\n",
              "          quickchartButtonEl.style.display =\n",
              "            google.colab.kernel.accessAllowed ? 'block' : 'none';\n",
              "        })();\n",
              "      </script>\n",
              "    </div>\n",
              "\n",
              "  <div id=\"id_fdd07c62-6402-43dd-bbc2-eebf651d03fd\">\n",
              "    <style>\n",
              "      .colab-df-generate {\n",
              "        background-color: #E8F0FE;\n",
              "        border: none;\n",
              "        border-radius: 50%;\n",
              "        cursor: pointer;\n",
              "        display: none;\n",
              "        fill: #1967D2;\n",
              "        height: 32px;\n",
              "        padding: 0 0 0 0;\n",
              "        width: 32px;\n",
              "      }\n",
              "\n",
              "      .colab-df-generate:hover {\n",
              "        background-color: #E2EBFA;\n",
              "        box-shadow: 0px 1px 2px rgba(60, 64, 67, 0.3), 0px 1px 3px 1px rgba(60, 64, 67, 0.15);\n",
              "        fill: #174EA6;\n",
              "      }\n",
              "\n",
              "      [theme=dark] .colab-df-generate {\n",
              "        background-color: #3B4455;\n",
              "        fill: #D2E3FC;\n",
              "      }\n",
              "\n",
              "      [theme=dark] .colab-df-generate:hover {\n",
              "        background-color: #434B5C;\n",
              "        box-shadow: 0px 1px 3px 1px rgba(0, 0, 0, 0.15);\n",
              "        filter: drop-shadow(0px 1px 2px rgba(0, 0, 0, 0.3));\n",
              "        fill: #FFFFFF;\n",
              "      }\n",
              "    </style>\n",
              "    <button class=\"colab-df-generate\" onclick=\"generateWithVariable('duplicate_rows')\"\n",
              "            title=\"Generate code using this dataframe.\"\n",
              "            style=\"display:none;\">\n",
              "\n",
              "  <svg xmlns=\"http://www.w3.org/2000/svg\" height=\"24px\"viewBox=\"0 0 24 24\"\n",
              "       width=\"24px\">\n",
              "    <path d=\"M7,19H8.4L18.45,9,17,7.55,7,17.6ZM5,21V16.75L18.45,3.32a2,2,0,0,1,2.83,0l1.4,1.43a1.91,1.91,0,0,1,.58,1.4,1.91,1.91,0,0,1-.58,1.4L9.25,21ZM18.45,9,17,7.55Zm-12,3A5.31,5.31,0,0,0,4.9,8.1,5.31,5.31,0,0,0,1,6.5,5.31,5.31,0,0,0,4.9,4.9,5.31,5.31,0,0,0,6.5,1,5.31,5.31,0,0,0,8.1,4.9,5.31,5.31,0,0,0,12,6.5,5.46,5.46,0,0,0,6.5,12Z\"/>\n",
              "  </svg>\n",
              "    </button>\n",
              "    <script>\n",
              "      (() => {\n",
              "      const buttonEl =\n",
              "        document.querySelector('#id_fdd07c62-6402-43dd-bbc2-eebf651d03fd button.colab-df-generate');\n",
              "      buttonEl.style.display =\n",
              "        google.colab.kernel.accessAllowed ? 'block' : 'none';\n",
              "\n",
              "      buttonEl.onclick = () => {\n",
              "        google.colab.notebook.generateWithVariable('duplicate_rows');\n",
              "      }\n",
              "      })();\n",
              "    </script>\n",
              "  </div>\n",
              "\n",
              "    </div>\n",
              "  </div>\n"
            ],
            "application/vnd.google.colaboratory.intrinsic+json": {
              "type": "dataframe",
              "variable_name": "duplicate_rows",
              "summary": "{\n  \"name\": \"duplicate_rows\",\n  \"rows\": 2,\n  \"fields\": [\n    {\n      \"column\": \"dirty title\",\n      \"properties\": {\n        \"dtype\": \"string\",\n        \"num_unique_values\": 1,\n        \"samples\": [\n          \"Casotec Back Cover for Mobile (Plastic_Multicolor)\"\n        ],\n        \"semantic_type\": \"\",\n        \"description\": \"\"\n      }\n    },\n    {\n      \"column\": \"ratings\",\n      \"properties\": {\n        \"dtype\": \"string\",\n        \"num_unique_values\": 2,\n        \"samples\": [\n          \"186\"\n        ],\n        \"semantic_type\": \"\",\n        \"description\": \"\"\n      }\n    },\n    {\n      \"column\": \"averageRating\",\n      \"properties\": {\n        \"dtype\": \"number\",\n        \"std\": 0.1414213562373093,\n        \"min\": 3.9,\n        \"max\": 4.1,\n        \"num_unique_values\": 2,\n        \"samples\": [\n          3.9\n        ],\n        \"semantic_type\": \"\",\n        \"description\": \"\"\n      }\n    },\n    {\n      \"column\": \"price\",\n      \"properties\": {\n        \"dtype\": \"number\",\n        \"std\": 0.0,\n        \"min\": 149.0,\n        \"max\": 149.0,\n        \"num_unique_values\": 1,\n        \"samples\": [\n          149.0\n        ],\n        \"semantic_type\": \"\",\n        \"description\": \"\"\n      }\n    },\n    {\n      \"column\": \"brand\",\n      \"properties\": {\n        \"dtype\": \"string\",\n        \"num_unique_values\": 1,\n        \"samples\": [\n          \"Casotec\"\n        ],\n        \"semantic_type\": \"\",\n        \"description\": \"\"\n      }\n    },\n    {\n      \"column\": \"type\",\n      \"properties\": {\n        \"dtype\": \"string\",\n        \"num_unique_values\": 1,\n        \"samples\": [\n          \"Back\"\n        ],\n        \"semantic_type\": \"\",\n        \"description\": \"\"\n      }\n    },\n    {\n      \"column\": \"ratings_clean\",\n      \"properties\": {\n        \"dtype\": \"number\",\n        \"std\": 91.92388155425118,\n        \"min\": 56.0,\n        \"max\": 186.0,\n        \"num_unique_values\": 2,\n        \"samples\": [\n          186.0\n        ],\n        \"semantic_type\": \"\",\n        \"description\": \"\"\n      }\n    }\n  ]\n}"
            }
          },
          "metadata": {},
          "execution_count": 36
        }
      ]
    },
    {
      "cell_type": "markdown",
      "source": [
        "# **12.Menghapus data duplikat**"
      ],
      "metadata": {
        "id": "tEctmmhPQ9yQ"
      }
    },
    {
      "cell_type": "code",
      "source": [
        "df = df.drop_duplicates(\n",
        "    subset=['dirty title', 'brand', 'type', 'averageRating', 'price'], keep='first'\n",
        ")\n",
        "print(\"Jumlah data setelah deduplikasi:\", len(df))\n"
      ],
      "metadata": {
        "colab": {
          "base_uri": "https://localhost:8080/"
        },
        "id": "EXa7TXBiA0mu",
        "outputId": "c68049e9-fba9-442b-fdd6-deaedefeb72d"
      },
      "execution_count": 37,
      "outputs": [
        {
          "output_type": "stream",
          "name": "stdout",
          "text": [
            "Jumlah data setelah deduplikasi: 1534\n"
          ]
        }
      ]
    },
    {
      "cell_type": "markdown",
      "source": [
        "# **13.Data Enrichment**"
      ],
      "metadata": {
        "id": "Da6VanWQRQip"
      }
    },
    {
      "cell_type": "code",
      "source": [
        "\n",
        "# --- Data Cleansing - Data Setelah Deduplikasi ---\n",
        "print(df.head(10))\n",
        "\n",
        "# --- Data Enrichment berdasarkan averageRating ---\n",
        "def rating_category(rating):\n",
        "    if pd.isna(rating):\n",
        "        return \"Unknown\"\n",
        "    elif rating >= 4.5:\n",
        "        return \"Excellent\"\n",
        "    elif rating >= 4.0:\n",
        "        return \"Good\"\n",
        "    elif rating >= 3.0:\n",
        "        return \"Average\"\n",
        "    else:\n",
        "        return \"Poor\"\n",
        "\n",
        "df['rating_category'] = df['averageRating'].apply(rating_category)\n",
        "\n",
        "# Tampilkan hasil enrichment\n",
        "df.head(10)\n",
        "\n"
      ],
      "metadata": {
        "colab": {
          "base_uri": "https://localhost:8080/",
          "height": 762
        },
        "id": "yvDACDJ56TCb",
        "outputId": "d8b9a376-0d92-4a9f-cdc7-407f221df23d"
      },
      "execution_count": 43,
      "outputs": [
        {
          "output_type": "stream",
          "name": "stdout",
          "text": [
            "                                         dirty title  ratings  averageRating  \\\n",
            "0  Redmi A1 (Light Blue, 2GB RAM, 32GB Storage) |...    7,009            4.0   \n",
            "1  Redmi 9 Activ (Carbon Black, 4GB RAM, 64GB Sto...  311,978            4.2   \n",
            "2  Redmi 9A Sport (Coral Green, 2GB RAM, 32GB Sto...  311,978            4.2   \n",
            "3  OPPO A31 (Mystery Black, 6GB RAM, 128GB Storag...   58,291            4.2   \n",
            "4  Redmi 10A (Slate Grey, 4GB RAM, 64GB Storage) ...   12,043            3.9   \n",
            "5  OPPO A74 5G (Fantastic Purple,6GB RAM,128GB St...   32,469            4.2   \n",
            "6  realme narzo 50i (Carbon Black, 2GB RAM+32GB S...   30,328            4.0   \n",
            "7  Samsung Galaxy M13 (Aqua Green, 4GB, 64GB Stor...   17,760            4.0   \n",
            "8  OnePlus Nord CE 2 Lite 5G (Blue Tide, 6GB RAM,...  105,027            4.3   \n",
            "9  Redmi 10A Sport (Slate Grey, 6GB RAM, 128GB St...      812            3.7   \n",
            "\n",
            "      price    brand    type  ratings_clean rating_category  \n",
            "0   61990.0    Redmi      A1            7.0            Good  \n",
            "1       NaN    Redmi       9          311.0            Good  \n",
            "2       NaN    Redmi      9A          311.0            Good  \n",
            "3       NaN     Oppo     A31           58.0            Good  \n",
            "4       NaN    Redmi     10A           12.0         Average  \n",
            "5       NaN     Oppo     A74           32.0            Good  \n",
            "6   69990.0   Realme   Narzo           30.0            Good  \n",
            "7  119990.0  Samsung  Galaxy           17.0            Good  \n",
            "8       NaN  Oneplus    Nord          105.0            Good  \n",
            "9       NaN    Redmi     10A          812.0         Average  \n"
          ]
        },
        {
          "output_type": "execute_result",
          "data": {
            "text/plain": [
              "                                         dirty title  ratings  averageRating  \\\n",
              "0  Redmi A1 (Light Blue, 2GB RAM, 32GB Storage) |...    7,009            4.0   \n",
              "1  Redmi 9 Activ (Carbon Black, 4GB RAM, 64GB Sto...  311,978            4.2   \n",
              "2  Redmi 9A Sport (Coral Green, 2GB RAM, 32GB Sto...  311,978            4.2   \n",
              "3  OPPO A31 (Mystery Black, 6GB RAM, 128GB Storag...   58,291            4.2   \n",
              "4  Redmi 10A (Slate Grey, 4GB RAM, 64GB Storage) ...   12,043            3.9   \n",
              "5  OPPO A74 5G (Fantastic Purple,6GB RAM,128GB St...   32,469            4.2   \n",
              "6  realme narzo 50i (Carbon Black, 2GB RAM+32GB S...   30,328            4.0   \n",
              "7  Samsung Galaxy M13 (Aqua Green, 4GB, 64GB Stor...   17,760            4.0   \n",
              "8  OnePlus Nord CE 2 Lite 5G (Blue Tide, 6GB RAM,...  105,027            4.3   \n",
              "9  Redmi 10A Sport (Slate Grey, 6GB RAM, 128GB St...      812            3.7   \n",
              "\n",
              "      price    brand    type  ratings_clean rating_category  \n",
              "0   61990.0    Redmi      A1            7.0            Good  \n",
              "1       NaN    Redmi       9          311.0            Good  \n",
              "2       NaN    Redmi      9A          311.0            Good  \n",
              "3       NaN     Oppo     A31           58.0            Good  \n",
              "4       NaN    Redmi     10A           12.0         Average  \n",
              "5       NaN     Oppo     A74           32.0            Good  \n",
              "6   69990.0   Realme   Narzo           30.0            Good  \n",
              "7  119990.0  Samsung  Galaxy           17.0            Good  \n",
              "8       NaN  Oneplus    Nord          105.0            Good  \n",
              "9       NaN    Redmi     10A          812.0         Average  "
            ],
            "text/html": [
              "\n",
              "  <div id=\"df-f5ed11ed-88c0-45fc-a927-9dabbaab816a\" class=\"colab-df-container\">\n",
              "    <div>\n",
              "<style scoped>\n",
              "    .dataframe tbody tr th:only-of-type {\n",
              "        vertical-align: middle;\n",
              "    }\n",
              "\n",
              "    .dataframe tbody tr th {\n",
              "        vertical-align: top;\n",
              "    }\n",
              "\n",
              "    .dataframe thead th {\n",
              "        text-align: right;\n",
              "    }\n",
              "</style>\n",
              "<table border=\"1\" class=\"dataframe\">\n",
              "  <thead>\n",
              "    <tr style=\"text-align: right;\">\n",
              "      <th></th>\n",
              "      <th>dirty title</th>\n",
              "      <th>ratings</th>\n",
              "      <th>averageRating</th>\n",
              "      <th>price</th>\n",
              "      <th>brand</th>\n",
              "      <th>type</th>\n",
              "      <th>ratings_clean</th>\n",
              "      <th>rating_category</th>\n",
              "    </tr>\n",
              "  </thead>\n",
              "  <tbody>\n",
              "    <tr>\n",
              "      <th>0</th>\n",
              "      <td>Redmi A1 (Light Blue, 2GB RAM, 32GB Storage) |...</td>\n",
              "      <td>7,009</td>\n",
              "      <td>4.0</td>\n",
              "      <td>61990.0</td>\n",
              "      <td>Redmi</td>\n",
              "      <td>A1</td>\n",
              "      <td>7.0</td>\n",
              "      <td>Good</td>\n",
              "    </tr>\n",
              "    <tr>\n",
              "      <th>1</th>\n",
              "      <td>Redmi 9 Activ (Carbon Black, 4GB RAM, 64GB Sto...</td>\n",
              "      <td>311,978</td>\n",
              "      <td>4.2</td>\n",
              "      <td>NaN</td>\n",
              "      <td>Redmi</td>\n",
              "      <td>9</td>\n",
              "      <td>311.0</td>\n",
              "      <td>Good</td>\n",
              "    </tr>\n",
              "    <tr>\n",
              "      <th>2</th>\n",
              "      <td>Redmi 9A Sport (Coral Green, 2GB RAM, 32GB Sto...</td>\n",
              "      <td>311,978</td>\n",
              "      <td>4.2</td>\n",
              "      <td>NaN</td>\n",
              "      <td>Redmi</td>\n",
              "      <td>9A</td>\n",
              "      <td>311.0</td>\n",
              "      <td>Good</td>\n",
              "    </tr>\n",
              "    <tr>\n",
              "      <th>3</th>\n",
              "      <td>OPPO A31 (Mystery Black, 6GB RAM, 128GB Storag...</td>\n",
              "      <td>58,291</td>\n",
              "      <td>4.2</td>\n",
              "      <td>NaN</td>\n",
              "      <td>Oppo</td>\n",
              "      <td>A31</td>\n",
              "      <td>58.0</td>\n",
              "      <td>Good</td>\n",
              "    </tr>\n",
              "    <tr>\n",
              "      <th>4</th>\n",
              "      <td>Redmi 10A (Slate Grey, 4GB RAM, 64GB Storage) ...</td>\n",
              "      <td>12,043</td>\n",
              "      <td>3.9</td>\n",
              "      <td>NaN</td>\n",
              "      <td>Redmi</td>\n",
              "      <td>10A</td>\n",
              "      <td>12.0</td>\n",
              "      <td>Average</td>\n",
              "    </tr>\n",
              "    <tr>\n",
              "      <th>5</th>\n",
              "      <td>OPPO A74 5G (Fantastic Purple,6GB RAM,128GB St...</td>\n",
              "      <td>32,469</td>\n",
              "      <td>4.2</td>\n",
              "      <td>NaN</td>\n",
              "      <td>Oppo</td>\n",
              "      <td>A74</td>\n",
              "      <td>32.0</td>\n",
              "      <td>Good</td>\n",
              "    </tr>\n",
              "    <tr>\n",
              "      <th>6</th>\n",
              "      <td>realme narzo 50i (Carbon Black, 2GB RAM+32GB S...</td>\n",
              "      <td>30,328</td>\n",
              "      <td>4.0</td>\n",
              "      <td>69990.0</td>\n",
              "      <td>Realme</td>\n",
              "      <td>Narzo</td>\n",
              "      <td>30.0</td>\n",
              "      <td>Good</td>\n",
              "    </tr>\n",
              "    <tr>\n",
              "      <th>7</th>\n",
              "      <td>Samsung Galaxy M13 (Aqua Green, 4GB, 64GB Stor...</td>\n",
              "      <td>17,760</td>\n",
              "      <td>4.0</td>\n",
              "      <td>119990.0</td>\n",
              "      <td>Samsung</td>\n",
              "      <td>Galaxy</td>\n",
              "      <td>17.0</td>\n",
              "      <td>Good</td>\n",
              "    </tr>\n",
              "    <tr>\n",
              "      <th>8</th>\n",
              "      <td>OnePlus Nord CE 2 Lite 5G (Blue Tide, 6GB RAM,...</td>\n",
              "      <td>105,027</td>\n",
              "      <td>4.3</td>\n",
              "      <td>NaN</td>\n",
              "      <td>Oneplus</td>\n",
              "      <td>Nord</td>\n",
              "      <td>105.0</td>\n",
              "      <td>Good</td>\n",
              "    </tr>\n",
              "    <tr>\n",
              "      <th>9</th>\n",
              "      <td>Redmi 10A Sport (Slate Grey, 6GB RAM, 128GB St...</td>\n",
              "      <td>812</td>\n",
              "      <td>3.7</td>\n",
              "      <td>NaN</td>\n",
              "      <td>Redmi</td>\n",
              "      <td>10A</td>\n",
              "      <td>812.0</td>\n",
              "      <td>Average</td>\n",
              "    </tr>\n",
              "  </tbody>\n",
              "</table>\n",
              "</div>\n",
              "    <div class=\"colab-df-buttons\">\n",
              "\n",
              "  <div class=\"colab-df-container\">\n",
              "    <button class=\"colab-df-convert\" onclick=\"convertToInteractive('df-f5ed11ed-88c0-45fc-a927-9dabbaab816a')\"\n",
              "            title=\"Convert this dataframe to an interactive table.\"\n",
              "            style=\"display:none;\">\n",
              "\n",
              "  <svg xmlns=\"http://www.w3.org/2000/svg\" height=\"24px\" viewBox=\"0 -960 960 960\">\n",
              "    <path d=\"M120-120v-720h720v720H120Zm60-500h600v-160H180v160Zm220 220h160v-160H400v160Zm0 220h160v-160H400v160ZM180-400h160v-160H180v160Zm440 0h160v-160H620v160ZM180-180h160v-160H180v160Zm440 0h160v-160H620v160Z\"/>\n",
              "  </svg>\n",
              "    </button>\n",
              "\n",
              "  <style>\n",
              "    .colab-df-container {\n",
              "      display:flex;\n",
              "      gap: 12px;\n",
              "    }\n",
              "\n",
              "    .colab-df-convert {\n",
              "      background-color: #E8F0FE;\n",
              "      border: none;\n",
              "      border-radius: 50%;\n",
              "      cursor: pointer;\n",
              "      display: none;\n",
              "      fill: #1967D2;\n",
              "      height: 32px;\n",
              "      padding: 0 0 0 0;\n",
              "      width: 32px;\n",
              "    }\n",
              "\n",
              "    .colab-df-convert:hover {\n",
              "      background-color: #E2EBFA;\n",
              "      box-shadow: 0px 1px 2px rgba(60, 64, 67, 0.3), 0px 1px 3px 1px rgba(60, 64, 67, 0.15);\n",
              "      fill: #174EA6;\n",
              "    }\n",
              "\n",
              "    .colab-df-buttons div {\n",
              "      margin-bottom: 4px;\n",
              "    }\n",
              "\n",
              "    [theme=dark] .colab-df-convert {\n",
              "      background-color: #3B4455;\n",
              "      fill: #D2E3FC;\n",
              "    }\n",
              "\n",
              "    [theme=dark] .colab-df-convert:hover {\n",
              "      background-color: #434B5C;\n",
              "      box-shadow: 0px 1px 3px 1px rgba(0, 0, 0, 0.15);\n",
              "      filter: drop-shadow(0px 1px 2px rgba(0, 0, 0, 0.3));\n",
              "      fill: #FFFFFF;\n",
              "    }\n",
              "  </style>\n",
              "\n",
              "    <script>\n",
              "      const buttonEl =\n",
              "        document.querySelector('#df-f5ed11ed-88c0-45fc-a927-9dabbaab816a button.colab-df-convert');\n",
              "      buttonEl.style.display =\n",
              "        google.colab.kernel.accessAllowed ? 'block' : 'none';\n",
              "\n",
              "      async function convertToInteractive(key) {\n",
              "        const element = document.querySelector('#df-f5ed11ed-88c0-45fc-a927-9dabbaab816a');\n",
              "        const dataTable =\n",
              "          await google.colab.kernel.invokeFunction('convertToInteractive',\n",
              "                                                    [key], {});\n",
              "        if (!dataTable) return;\n",
              "\n",
              "        const docLinkHtml = 'Like what you see? Visit the ' +\n",
              "          '<a target=\"_blank\" href=https://colab.research.google.com/notebooks/data_table.ipynb>data table notebook</a>'\n",
              "          + ' to learn more about interactive tables.';\n",
              "        element.innerHTML = '';\n",
              "        dataTable['output_type'] = 'display_data';\n",
              "        await google.colab.output.renderOutput(dataTable, element);\n",
              "        const docLink = document.createElement('div');\n",
              "        docLink.innerHTML = docLinkHtml;\n",
              "        element.appendChild(docLink);\n",
              "      }\n",
              "    </script>\n",
              "  </div>\n",
              "\n",
              "\n",
              "    <div id=\"df-70a54c8e-064f-41c7-a465-1612546667b1\">\n",
              "      <button class=\"colab-df-quickchart\" onclick=\"quickchart('df-70a54c8e-064f-41c7-a465-1612546667b1')\"\n",
              "                title=\"Suggest charts\"\n",
              "                style=\"display:none;\">\n",
              "\n",
              "<svg xmlns=\"http://www.w3.org/2000/svg\" height=\"24px\"viewBox=\"0 0 24 24\"\n",
              "     width=\"24px\">\n",
              "    <g>\n",
              "        <path d=\"M19 3H5c-1.1 0-2 .9-2 2v14c0 1.1.9 2 2 2h14c1.1 0 2-.9 2-2V5c0-1.1-.9-2-2-2zM9 17H7v-7h2v7zm4 0h-2V7h2v10zm4 0h-2v-4h2v4z\"/>\n",
              "    </g>\n",
              "</svg>\n",
              "      </button>\n",
              "\n",
              "<style>\n",
              "  .colab-df-quickchart {\n",
              "      --bg-color: #E8F0FE;\n",
              "      --fill-color: #1967D2;\n",
              "      --hover-bg-color: #E2EBFA;\n",
              "      --hover-fill-color: #174EA6;\n",
              "      --disabled-fill-color: #AAA;\n",
              "      --disabled-bg-color: #DDD;\n",
              "  }\n",
              "\n",
              "  [theme=dark] .colab-df-quickchart {\n",
              "      --bg-color: #3B4455;\n",
              "      --fill-color: #D2E3FC;\n",
              "      --hover-bg-color: #434B5C;\n",
              "      --hover-fill-color: #FFFFFF;\n",
              "      --disabled-bg-color: #3B4455;\n",
              "      --disabled-fill-color: #666;\n",
              "  }\n",
              "\n",
              "  .colab-df-quickchart {\n",
              "    background-color: var(--bg-color);\n",
              "    border: none;\n",
              "    border-radius: 50%;\n",
              "    cursor: pointer;\n",
              "    display: none;\n",
              "    fill: var(--fill-color);\n",
              "    height: 32px;\n",
              "    padding: 0;\n",
              "    width: 32px;\n",
              "  }\n",
              "\n",
              "  .colab-df-quickchart:hover {\n",
              "    background-color: var(--hover-bg-color);\n",
              "    box-shadow: 0 1px 2px rgba(60, 64, 67, 0.3), 0 1px 3px 1px rgba(60, 64, 67, 0.15);\n",
              "    fill: var(--button-hover-fill-color);\n",
              "  }\n",
              "\n",
              "  .colab-df-quickchart-complete:disabled,\n",
              "  .colab-df-quickchart-complete:disabled:hover {\n",
              "    background-color: var(--disabled-bg-color);\n",
              "    fill: var(--disabled-fill-color);\n",
              "    box-shadow: none;\n",
              "  }\n",
              "\n",
              "  .colab-df-spinner {\n",
              "    border: 2px solid var(--fill-color);\n",
              "    border-color: transparent;\n",
              "    border-bottom-color: var(--fill-color);\n",
              "    animation:\n",
              "      spin 1s steps(1) infinite;\n",
              "  }\n",
              "\n",
              "  @keyframes spin {\n",
              "    0% {\n",
              "      border-color: transparent;\n",
              "      border-bottom-color: var(--fill-color);\n",
              "      border-left-color: var(--fill-color);\n",
              "    }\n",
              "    20% {\n",
              "      border-color: transparent;\n",
              "      border-left-color: var(--fill-color);\n",
              "      border-top-color: var(--fill-color);\n",
              "    }\n",
              "    30% {\n",
              "      border-color: transparent;\n",
              "      border-left-color: var(--fill-color);\n",
              "      border-top-color: var(--fill-color);\n",
              "      border-right-color: var(--fill-color);\n",
              "    }\n",
              "    40% {\n",
              "      border-color: transparent;\n",
              "      border-right-color: var(--fill-color);\n",
              "      border-top-color: var(--fill-color);\n",
              "    }\n",
              "    60% {\n",
              "      border-color: transparent;\n",
              "      border-right-color: var(--fill-color);\n",
              "    }\n",
              "    80% {\n",
              "      border-color: transparent;\n",
              "      border-right-color: var(--fill-color);\n",
              "      border-bottom-color: var(--fill-color);\n",
              "    }\n",
              "    90% {\n",
              "      border-color: transparent;\n",
              "      border-bottom-color: var(--fill-color);\n",
              "    }\n",
              "  }\n",
              "</style>\n",
              "\n",
              "      <script>\n",
              "        async function quickchart(key) {\n",
              "          const quickchartButtonEl =\n",
              "            document.querySelector('#' + key + ' button');\n",
              "          quickchartButtonEl.disabled = true;  // To prevent multiple clicks.\n",
              "          quickchartButtonEl.classList.add('colab-df-spinner');\n",
              "          try {\n",
              "            const charts = await google.colab.kernel.invokeFunction(\n",
              "                'suggestCharts', [key], {});\n",
              "          } catch (error) {\n",
              "            console.error('Error during call to suggestCharts:', error);\n",
              "          }\n",
              "          quickchartButtonEl.classList.remove('colab-df-spinner');\n",
              "          quickchartButtonEl.classList.add('colab-df-quickchart-complete');\n",
              "        }\n",
              "        (() => {\n",
              "          let quickchartButtonEl =\n",
              "            document.querySelector('#df-70a54c8e-064f-41c7-a465-1612546667b1 button');\n",
              "          quickchartButtonEl.style.display =\n",
              "            google.colab.kernel.accessAllowed ? 'block' : 'none';\n",
              "        })();\n",
              "      </script>\n",
              "    </div>\n",
              "\n",
              "    </div>\n",
              "  </div>\n"
            ],
            "application/vnd.google.colaboratory.intrinsic+json": {
              "type": "dataframe",
              "variable_name": "df",
              "summary": "{\n  \"name\": \"df\",\n  \"rows\": 1534,\n  \"fields\": [\n    {\n      \"column\": \"dirty title\",\n      \"properties\": {\n        \"dtype\": \"string\",\n        \"num_unique_values\": 1511,\n        \"samples\": [\n          \"Apple iPhone 11 (64GB) - Black\",\n          \"iQOO Z6 44W (Lumina Blue, 6GB RAM, 128GB Storage) | 6.44\\\" FHD+ AMOLED Display | 50% Charge in just 27 mins | in-Display Fingerprint Scanning\",\n          \"realme 9 5G (Supersonic Black, 6GB RAM 128GB Storage)\"\n        ],\n        \"semantic_type\": \"\",\n        \"description\": \"\"\n      }\n    },\n    {\n      \"column\": \"ratings\",\n      \"properties\": {\n        \"dtype\": \"category\",\n        \"num_unique_values\": 373,\n        \"samples\": [\n          \"3,001\",\n          \"4,457\",\n          \"18,444\"\n        ],\n        \"semantic_type\": \"\",\n        \"description\": \"\"\n      }\n    },\n    {\n      \"column\": \"averageRating\",\n      \"properties\": {\n        \"dtype\": \"number\",\n        \"std\": 0.7273667289345369,\n        \"min\": 1.0,\n        \"max\": 5.0,\n        \"num_unique_values\": 37,\n        \"samples\": [\n          2.4,\n          3.3,\n          3.7\n        ],\n        \"semantic_type\": \"\",\n        \"description\": \"\"\n      }\n    },\n    {\n      \"column\": \"price\",\n      \"properties\": {\n        \"dtype\": \"number\",\n        \"std\": 151232.24579988947,\n        \"min\": 60.0,\n        \"max\": 1671400.0,\n        \"num_unique_values\": 588,\n        \"samples\": [\n          67950.0,\n          464000.0,\n          99980.0\n        ],\n        \"semantic_type\": \"\",\n        \"description\": \"\"\n      }\n    },\n    {\n      \"column\": \"brand\",\n      \"properties\": {\n        \"dtype\": \"category\",\n        \"num_unique_values\": 179,\n        \"samples\": [\n          \"Hd\",\n          \"(Renewed)\",\n          \"Flygear\\u00ae\"\n        ],\n        \"semantic_type\": \"\",\n        \"description\": \"\"\n      }\n    },\n    {\n      \"column\": \"type\",\n      \"properties\": {\n        \"dtype\": \"category\",\n        \"num_unique_values\": 420,\n        \"samples\": [\n          \"C11(2021)\",\n          \"Silicone\",\n          \"A17\"\n        ],\n        \"semantic_type\": \"\",\n        \"description\": \"\"\n      }\n    },\n    {\n      \"column\": \"ratings_clean\",\n      \"properties\": {\n        \"dtype\": \"number\",\n        \"std\": 176.4722822782815,\n        \"min\": 1.0,\n        \"max\": 999.0,\n        \"num_unique_values\": 242,\n        \"samples\": [\n          63.0,\n          17.0,\n          357.0\n        ],\n        \"semantic_type\": \"\",\n        \"description\": \"\"\n      }\n    },\n    {\n      \"column\": \"rating_category\",\n      \"properties\": {\n        \"dtype\": \"category\",\n        \"num_unique_values\": 5,\n        \"samples\": [\n          \"Average\",\n          \"Unknown\",\n          \"Excellent\"\n        ],\n        \"semantic_type\": \"\",\n        \"description\": \"\"\n      }\n    }\n  ]\n}"
            }
          },
          "metadata": {},
          "execution_count": 43
        }
      ]
    },
    {
      "cell_type": "markdown",
      "source": [],
      "metadata": {
        "id": "nCqs6uVZMIT9"
      }
    },
    {
      "cell_type": "markdown",
      "source": [
        "# **14.Menyimpan data**\n"
      ],
      "metadata": {
        "id": "AZgn1U96Rlfw"
      }
    },
    {
      "cell_type": "code",
      "source": [
        "folder_path = '/content/drive/MyDrive/DATA_MINING_2318082/Data_set_bersih/'\n",
        "\n",
        "df_cleaned.to_csv(folder_path + 'cleaned_data_phone_ratings.csv', index=False)\n",
        "print(f\"File berhasil disimpan di {folder_path}\")\n"
      ],
      "metadata": {
        "colab": {
          "base_uri": "https://localhost:8080/"
        },
        "id": "TDdxuwr1MHuj",
        "outputId": "bb27df9c-029b-42eb-b6a4-ce8cba38bda5"
      },
      "execution_count": 39,
      "outputs": [
        {
          "output_type": "stream",
          "name": "stdout",
          "text": [
            "File berhasil disimpan di /content/drive/MyDrive/DATA_MINING_2318082/Data_set_bersih/\n"
          ]
        }
      ]
    }
  ]
}